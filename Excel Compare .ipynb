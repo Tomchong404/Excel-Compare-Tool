{
 "cells": [
  {
   "cell_type": "code",
   "execution_count": 6,
   "id": "ac65312e",
   "metadata": {},
   "outputs": [],
   "source": [
    "import openpyxl\n",
    "from openpyxl.styles import PatternFill, colors"
   ]
  },
  {
   "cell_type": "code",
   "execution_count": 7,
   "id": "9c274a2c",
   "metadata": {},
   "outputs": [],
   "source": [
    "#Load in file and sheet\n",
    "file1 = openpyxl.load_workbook(\"Oldfile.xlsx\")\n",
    "file2 = openpyxl.load_workbook(\"Newfile.xlsx\")\n",
    "\n",
    "sheet1 = file1['Sheet1']\n",
    "sheet2 = file2['Sheet1']"
   ]
  },
  {
   "cell_type": "code",
   "execution_count": 8,
   "id": "6e971ad3",
   "metadata": {},
   "outputs": [
    {
     "name": "stdout",
     "output_type": "stream",
     "text": [
      "58\n"
     ]
    }
   ],
   "source": [
    "#Check if load was sucess \n",
    "print(sheet2['A2'].value)"
   ]
  },
  {
   "cell_type": "code",
   "execution_count": 9,
   "id": "58c01001",
   "metadata": {},
   "outputs": [],
   "source": [
    "#Define the color to fill\n",
    "\n",
    "#Orange\n",
    "fill_style = PatternFill(start_color = 'FFA500', end_color = 'FFA500', fill_type = 'solid')\n",
    "#Yellow\n",
    "fill_style2 = PatternFill(start_color = 'FFFF00', end_color = 'FFFF00', fill_type = 'solid')\n",
    "#Red\n",
    "fill_style3 = PatternFill(start_color = 'FF8282', end_color = 'FF8282', fill_type = 'solid')"
   ]
  },
  {
   "cell_type": "code",
   "execution_count": 10,
   "id": "4755b1fe",
   "metadata": {},
   "outputs": [],
   "source": [
    "#Loop through cell\n",
    "for row in sheet1.iter_rows():\n",
    "    for cell in row:\n",
    "        current_cell_value = cell.value\n",
    "        cell_location = cell.coordinate\n",
    "        \n",
    "#if mismatch print old value -> new value       \n",
    "        if current_cell_value != sheet2[cell_location].value:\n",
    "            cell.fill = fill_style\n",
    "            cell.value = f\"{current_cell_value} \\n -> \\n {sheet2[cell_location].value}\"\n",
    "            #Hightlight removed cell\n",
    "            if current_cell_value is None:\n",
    "                cell.fill = fill_style2\n",
    "            #Hightlight new cell\n",
    "            if sheet2[cell_location].value is None:\n",
    "                cell.fill = fill_style3\n",
    "            \n",
    "#export file \n",
    "file1.save(\"Compared_file.xlsx\")"
   ]
  }
 ],
 "metadata": {
  "kernelspec": {
   "display_name": "Python 3 (ipykernel)",
   "language": "python",
   "name": "python3"
  },
  "language_info": {
   "codemirror_mode": {
    "name": "ipython",
    "version": 3
   },
   "file_extension": ".py",
   "mimetype": "text/x-python",
   "name": "python",
   "nbconvert_exporter": "python",
   "pygments_lexer": "ipython3",
   "version": "3.9.13"
  }
 },
 "nbformat": 4,
 "nbformat_minor": 5
}
